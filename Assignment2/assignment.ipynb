{
 "cells": [
  {
   "cell_type": "code",
   "execution_count": null,
   "id": "2af535c8",
   "metadata": {},
   "outputs": [],
   "source": [
    "from langchain_google_genai import ChatGoogleGenerativeAI\n",
    "model=ChatGoogleGenerativeAI(model='gemini-1.5-flash')\n"
   ]
  },
  {
   "cell_type": "code",
   "execution_count": 64,
   "metadata": {},
   "outputs": [],
   "source": [
    "from langchain_huggingface import HuggingFaceEmbeddings\n",
    "embeddings=HuggingFaceEmbeddings(model_name=\"BAAI/bge-small-en\")"
   ]
  },
  {
   "cell_type": "code",
   "execution_count": null,
   "metadata": {},
   "outputs": [
    {
     "data": {
      "text/plain": [
       "[Document(metadata={'source': '..\\\\input\\\\cricketrules.txt'}, page_content='Cricket Rules \\n\\n- A cricket match is played between two teams of 11 players each.\\n\\n- One team bats to score runs while the other bowls and fields to restrict runs and dismiss batters.\\n\\n- The team with the most runs at the end of the match wins.\\n\\n- The game is played in formats like Test, ODI (50 overs), T20 (20 overs), and T10 (10 overs).\\n\\n- Runs are scored by running between the wickets or hitting boundaries (4 for ground hits, 6 for over the boundary).\\n\\n- A bowler delivers 6 legal balls in one over.\\n\\n- Each team takes turns to bat and bowl based on the format.\\n\\n- A batter is out if bowled, caught, run out, LBW, stumped, or hit wicket.\\n\\n- No-balls and wides give extra runs and require an extra delivery.\\n\\n- Powerplays restrict fielding positions during initial overs in limited-overs formats.\\n\\n- DRS (Decision Review System) allows teams to review umpire decisions using technology.\\n\\n- Umpires enforce rules and can penalize teams for time-wasting or unfair play.\\n\\n- The Spirit of Cricket emphasizes fair play, respect, and sportsmanship.')]"
      ]
     },
     "execution_count": 65,
     "metadata": {},
     "output_type": "execute_result"
    }
   ],
   "source": [
    "from langchain_community.document_loaders import TextLoader, DirectoryLoader\n",
    "from langchain_community.vectorstores import Chroma\n",
    "from langchain.text_splitter import RecursiveCharacterTextSplitter\n",
    "loader=DirectoryLoader(\"../input\",glob=\"./*.txt\",loader_cls=TextLoader)\n",
    "docs=loader.load()\n"
   ]
  },
  {
   "cell_type": "code",
   "execution_count": 66,
   "id": "6d87697a",
   "metadata": {},
   "outputs": [],
   "source": [
    "text_splitter=RecursiveCharacterTextSplitter(\n",
    "    chunk_size=200,\n",
    "    chunk_overlap=50\n",
    ")"
   ]
  },
  {
   "cell_type": "code",
   "execution_count": 67,
   "id": "4de95ed8",
   "metadata": {},
   "outputs": [],
   "source": [
    "new_docs=text_splitter.split_documents(documents=docs)"
   ]
  },
  {
   "cell_type": "code",
   "execution_count": 21,
   "id": "de052e92",
   "metadata": {},
   "outputs": [],
   "source": [
    "doc_string=[doc.page_content for doc in new_docs]\n"
   ]
  },
  {
   "cell_type": "code",
   "execution_count": 22,
   "id": "5350c7f7",
   "metadata": {},
   "outputs": [],
   "source": [
    "db=Chroma.from_documents(new_docs,embeddings)\n"
   ]
  },
  {
   "cell_type": "code",
   "execution_count": 27,
   "id": "a9ab6a9f",
   "metadata": {},
   "outputs": [
    {
     "data": {
      "text/plain": [
       "[Document(metadata={'source': '..\\\\input\\\\cricketrules.txt'}, page_content='Cricket Rules \\n\\n- A cricket match is played between two teams of 11 players each.\\n\\n- One team bats to score runs while the other bowls and fields to restrict runs and dismiss batters.'),\n",
       " Document(metadata={'source': '..\\\\input\\\\cricketrules.txt'}, page_content='- A bowler delivers 6 legal balls in one over.\\n\\n- Each team takes turns to bat and bowl based on the format.\\n\\n- A batter is out if bowled, caught, run out, LBW, stumped, or hit wicket.'),\n",
       " Document(metadata={'source': '..\\\\input\\\\cricketrules.txt'}, page_content='- Runs are scored by running between the wickets or hitting boundaries (4 for ground hits, 6 for over the boundary).\\n\\n- A bowler delivers 6 legal balls in one over.')]"
      ]
     },
     "execution_count": 27,
     "metadata": {},
     "output_type": "execute_result"
    }
   ],
   "source": [
    "retriever=db.as_retriever(search_kwargs={\"k\": 3})\n",
    "retriever.invoke(\"cricket rules?\")"
   ]
  },
  {
   "cell_type": "code",
   "execution_count": 68,
   "id": "a5891149",
   "metadata": {},
   "outputs": [],
   "source": [
    "import operator\n",
    "from typing import List\n",
    "from pydantic import BaseModel , Field\n",
    "from langchain.prompts import PromptTemplate\n",
    "from typing import TypedDict, Annotated, Sequence\n",
    "from langchain_core.messages import BaseMessage\n",
    "from langchain_core.output_parsers import StrOutputParser\n",
    "from langchain_core.prompts import ChatPromptTemplate, PromptTemplate\n",
    "from langchain_core.runnables import RunnablePassthrough\n",
    "from langchain_core.messages import HumanMessage, AIMessage\n",
    "from langgraph.graph import StateGraph,END"
   ]
  },
  {
   "cell_type": "code",
   "execution_count": 69,
   "id": "e3168e47",
   "metadata": {},
   "outputs": [],
   "source": [
    "class TopicSelectionParser(BaseModel):\n",
    "    Topic:str=Field(description=\"selected topic\")\n",
    "    Reasoning:str=Field(description='Reasoning behind topic selection')"
   ]
  },
  {
   "cell_type": "code",
   "execution_count": 70,
   "id": "f2ecfb00",
   "metadata": {},
   "outputs": [],
   "source": [
    "from langchain.output_parsers import PydanticOutputParser\n",
    "parser=PydanticOutputParser(pydantic_object=TopicSelectionParser)\n"
   ]
  },
  {
   "cell_type": "code",
   "execution_count": 71,
   "id": "344b926c",
   "metadata": {},
   "outputs": [],
   "source": [
    "class AgentState(TypedDict):\n",
    "    messages: Annotated[Sequence[BaseMessage], operator.add]"
   ]
  },
  {
   "cell_type": "code",
   "execution_count": 86,
   "id": "36e78516",
   "metadata": {},
   "outputs": [],
   "source": [
    "# SUPERVISOR FUNCTION\n",
    "def function_1(state:AgentState):\n",
    "    \n",
    "    question=state[\"messages\"][-1]\n",
    "    \n",
    "    print(\"Question\",question)\n",
    "    \n",
    "    template=\"\"\"\n",
    "    Your task is to classify the given user query into one of the following categories: [Cricket, Fact Check, Not Related].\n",
    "        - If the query requires real-time information or recent events, classify it as \"Fact Check\".\n",
    "        - If the query is about Cricket (rules, history, teams), classify it as \"Cricket\".\n",
    "        - If the query does not fit these categories, classify it as \"Not Related\".\n",
    "        \n",
    "    User query: {question}\n",
    "    {format_instructions}\n",
    "    \"\"\"\n",
    "    \n",
    "    prompt= PromptTemplate(\n",
    "        template=template,\n",
    "        input_variable=[\"question\"],\n",
    "        partial_variables={\"format_instructions\": parser.get_format_instructions()}\n",
    "    )\n",
    "    \n",
    "    \n",
    "    chain= prompt | model | parser\n",
    "    \n",
    "    response = chain.invoke({\"question\":question})\n",
    "    \n",
    "    print(\"Parsed response:\", response)\n",
    "    \n",
    "    return {\"messages\": [response.Topic]}"
   ]
  },
  {
   "cell_type": "code",
   "execution_count": 87,
   "id": "2ca63937",
   "metadata": {},
   "outputs": [],
   "source": [
    "def router(state:AgentState):\n",
    "    print(\"-> ROUTER ->\")\n",
    "    \n",
    "    last_message=state[\"messages\"][-1]\n",
    "    print(\"last_message:\", last_message)\n",
    "    \n",
    "    # Ensure proper validation before routing\n",
    "    if last_message not in [\"Cricket\", \"Fact Check\", \"Not Related\"]:\n",
    "        print(\"Validation failed—Returning to Supervisor Node...\")        \n",
    "    # Ask Supervisor to reclassify the query\n",
    "        state[\"messages\"][-1] = \"Not Related\"\n",
    "        return router(state) \n",
    "    \n",
    "    if \"cricket\" in last_message.lower():\n",
    "        return \"RAG Call\"\n",
    "    elif \"fact check\" in last_message.lower():  \n",
    "        return \"TavilySearch Call\"\n",
    "    else:\n",
    "        return \"LLM Call\""
   ]
  },
  {
   "cell_type": "code",
   "execution_count": 88,
   "id": "575765ff",
   "metadata": {},
   "outputs": [],
   "source": [
    "def format_docs(docs):\n",
    "    return \"\\n\\n\".join(doc.page_content for doc in docs)\n",
    "# RAG Function\n",
    "def function_2(state:AgentState):\n",
    "    print(\"-> RAG Call ->\")\n",
    "    \n",
    "    question = state[\"messages\"][0]\n",
    "    print(\"Inside Rag function\",question)\n",
    "    prompt=PromptTemplate(\n",
    "        template=\"\"\"You are an assistant for question-answering tasks. Use the following pieces of retrieved context to answer the question. If you don't know the answer, just say that you don't know. Use three sentences maximum and keep the answer concise.\\nQuestion: {question} \\nContext: {context} \\nAnswer:\"\"\",\n",
    "        \n",
    "        input_variables=['context', 'question']\n",
    "    )\n",
    "    \n",
    "    rag_chain = (\n",
    "        {\"context\": retriever | format_docs, \"question\": RunnablePassthrough()}\n",
    "        | prompt\n",
    "        | model\n",
    "        | StrOutputParser()\n",
    "    )\n",
    "    result = rag_chain.invoke(question)\n",
    "    return  {\"messages\": [result]}"
   ]
  },
  {
   "cell_type": "code",
   "execution_count": 89,
   "id": "9352263e",
   "metadata": {},
   "outputs": [],
   "source": [
    "# LLM Function\n",
    "def function_3(state:AgentState):\n",
    "    print(\"-> LLM Call ->\")\n",
    "    question = state[\"messages\"][0]\n",
    "    \n",
    "    # Normal LLM call\n",
    "    complete_query = \"Anwer the follow question with you knowledge of the real world. Following is the user question: \" + question\n",
    "    response = model.invoke(complete_query)\n",
    "    return {\"messages\": [response.content]}"
   ]
  },
  {
   "cell_type": "code",
   "execution_count": 90,
   "id": "c4d7fb55",
   "metadata": {},
   "outputs": [],
   "source": [
    "from langchain_community.tools.tavily_search import TavilySearchResults\n",
    "import os\n",
    "      \n",
    "def function_4(state:AgentState):\n",
    "    print(\"-> TAVILY SEARCH ->\")\n",
    "    question = state[\"messages\"][0]\n",
    "    TAVILY_API_KEY=os.getenv(\"TAVILY_API_KEY\")\n",
    "    # Tavily Search    \n",
    "    search_results = TavilySearchResults(api_key=TAVILY_API_KEY).invoke({\"query\": question})\n",
    "    \n",
    "    if not search_results:\n",
    "        return {\"messages\": [\"No results found.\"]}\n",
    "    \n",
    "    # Format the search results\n",
    "    formatted_results = \"\\n\\n\".join(result[\"content\"] for result in search_results)\n",
    "    \n",
    "    return {\"messages\": [formatted_results]}"
   ]
  },
  {
   "cell_type": "code",
   "execution_count": 91,
   "id": "f3db1381",
   "metadata": {},
   "outputs": [
    {
     "data": {
      "text/plain": [
       "<langgraph.graph.state.StateGraph at 0x172863f25d0>"
      ]
     },
     "execution_count": 91,
     "metadata": {},
     "output_type": "execute_result"
    }
   ],
   "source": [
    "from langgraph.graph import StateGraph,END\n",
    "workflow=StateGraph(AgentState)\n",
    "workflow.add_node(\"Supervisor\",function_1)\n",
    "workflow.add_node(\"RAG\",function_2)\n",
    "workflow.add_node(\"LLM\",function_3)\n",
    "workflow.add_node(\"Tavily Search\",function_4)\n",
    "workflow.set_entry_point(\"Supervisor\")"
   ]
  },
  {
   "cell_type": "code",
   "execution_count": 92,
   "id": "2c052358",
   "metadata": {},
   "outputs": [
    {
     "data": {
      "text/plain": [
       "<langgraph.graph.state.StateGraph at 0x172863f25d0>"
      ]
     },
     "execution_count": 92,
     "metadata": {},
     "output_type": "execute_result"
    }
   ],
   "source": [
    "workflow.add_conditional_edges(\n",
    "    \"Supervisor\",\n",
    "    router,\n",
    "    {\n",
    "        \"RAG Call\": \"RAG\",\n",
    "        \"LLM Call\": \"LLM\",\n",
    "        \"TavilySearch Call\": \"Tavily Search\"\n",
    "    }\n",
    ")"
   ]
  },
  {
   "cell_type": "code",
   "execution_count": 93,
   "id": "b3a4ac7d",
   "metadata": {},
   "outputs": [],
   "source": [
    "workflow.add_edge(\"RAG\",END)\n",
    "workflow.add_edge(\"LLM\",END)\n",
    "workflow.add_edge(\"Tavily Search\",END)\n",
    "app=workflow.compile()"
   ]
  },
  {
   "cell_type": "code",
   "execution_count": 94,
   "id": "6c89c419",
   "metadata": {},
   "outputs": [
    {
     "data": {
      "image/png": "[encoded data removed]",
      "text/plain": [
       "<IPython.core.display.Image object>"
      ]
     },
     "metadata": {},
     "output_type": "display_data"
    }
   ],
   "source": [
    "from IPython.display import Image, display\n",
    "display(Image(app.get_graph().draw_mermaid_png()))"
   ]
  },
  {
   "cell_type": "code",
   "execution_count": 95,
   "id": "a93f9bab",
   "metadata": {},
   "outputs": [
    {
     "name": "stdout",
     "output_type": "stream",
     "text": [
      "Question what is the rule in cricket?\n",
      "Parsed response: Topic='Cricket' Reasoning='The query asks about the rules in cricket, which is a topic directly related to the sport of cricket.'\n",
      "-> ROUTER ->\n",
      "last_message: Cricket\n",
      "-> RAG Call ->\n",
      "Inside Rag function what is the rule in cricket?\n",
      "Question what is the rule in cricket?\n",
      "Parsed response: Topic='Cricket' Reasoning=\"The query directly asks about the rules in cricket, which is a topic related to the sport's regulations and gameplay.\"\n",
      "-> ROUTER ->\n",
      "last_message: Cricket\n",
      "-> RAG Call ->\n",
      "Inside Rag function what is the rule in cricket?\n"
     ]
    },
    {
     "data": {
      "text/plain": [
       "'Cricket is played between two teams of 11, with one batting to score runs while the other bowls and fields to dismiss batters.  Runs are scored by hitting boundaries (4 or 6) or running between wickets.  A batter can be out in several ways, including being bowled, caught, or run out.'"
      ]
     },
     "execution_count": 95,
     "metadata": {},
     "output_type": "execute_result"
    }
   ],
   "source": [
    "state={\"messages\":[\"what is the rule in cricket?\"]}\n",
    "app.invoke(state)\n",
    "result=app.invoke(state)\n",
    "result[\"messages\"][-1]"
   ]
  },
  {
   "cell_type": "code",
   "execution_count": 54,
   "id": "d307b5e2",
   "metadata": {},
   "outputs": [
    {
     "name": "stdout",
     "output_type": "stream",
     "text": [
      "Question who won the IPL Tournament in 2025?\n",
      "Parsed response: Topic='Fact Check' Reasoning=\"The query asks about the winner of a future IPL tournament.  Determining the winner requires checking facts about a future event, making it a fact-check query.  The IPL is a cricket tournament, but the query's focus is on verifying a future outcome, not on cricket rules or history.\"\n",
      "-> ROUTER ->\n",
      "last_message: Fact Check\n",
      "-> TAVILY SEARCH ->\n",
      "Question who won the IPL Tournament in 2025?\n",
      "Parsed response: Topic='Fact Check' Reasoning='The query asks for the winner of a future IPL tournament.  Determining the winner requires checking facts about a future event, which is a fact-check task.'\n",
      "-> ROUTER ->\n",
      "last_message: Fact Check\n",
      "-> TAVILY SEARCH ->\n"
     ]
    },
    {
     "data": {
      "text/plain": [
       "'The [**IPL 2025**](https://www.olympics.com/en/news/indian-premier-league-ipl-2025-schedule-match-list) concluded on June 3 with Royal Challengers Bengaluru defeating Punjab Kings in the final to lift their maiden title.\\n\\nThis was the 18th edition of the [**Indian Premier League**](https://www.olympics.com/en/news/indian-premier-league-ipl-winners-list-champions) - the world’s most lucrative franchise-based T20 league.\\n\\nRCB became the eighth team to win the IPL trophy. [...] The top two teams - PBKS and RCB - battled it out in Qualifier 1, with the Royal Challengers winning it to earn a direct ticket to the final.\\n\\nHowever, PBKS ended up joining RCB in the finale after defeating MI, who defeated GT in the Eliminator.\\n\\nOverall, MI and CSK are the most successful teams in the IPL with five titles each, followed by KKR with three. RCB, SRH, RR, GT and the now-defunct Deccan Chargers are the other teams who have won the title.\\n\\n[Videos](https://www.espncricinfo.com/cricket-videos/ \"Cricket Videos\")\\n\\n[Stats](https://www.espncricinfo.com/records \"Cricket Stats\")\\n\\n[IPL 2025](https://www.espncricinfo.com/series/ipl-2025-1449924 \"IPL 2025\")\\n\\nEdition GL\\n\\n**RESULT**\\n\\nFinal (N), Ahmedabad, June 03, 2025, [Indian Premier League](https://www.espncricinfo.com/series/ipl-2025-1449924 \"Indian Premier League\") [...] [Kohli and Hazlewood finish at No. 3 on IPL 2025 Orange and Purple Cap tables respectively ----------------------------------------------------------------------------------------- B Sai Sudharsan and Prasidh Krishna won the Orange and Purple Caps respectively at the end of IPL 2025 ![Image 52: Rapid Fire: What did Krunal Pandya do [...] [Full Table](https://www.espncricinfo.com/series/ipl-2025-1449924/points-table-standings \"Full Table\")\\n\\n![Image 59: AskESPNcricinfo Logo](https://wassets.hscicdn.com/static/images/lazyimage-noaspect.svg)\\n\\nWinner\\n\\n[Royal Challengers Bengaluru](https://www.espncricinfo.com/team/royal-challengers-bengaluru-335970 \"Royal Challengers Bengaluru\") [...] Match (N), Lucknow, May 23, 2025, [Indian Premier League](https://www.espncricinfo.com/series/ipl-2025-1449924 \"IPL\") ![Image 57: RCB Flag](https://wassets.hscicdn.com/static/images/lazyimage-transparent.png) SRH **231/6** ![Image 58: RCB Flag](https://wassets.hscicdn.com/static/images/lazyimage-transparent.png) RCB (19.5/20 ov, T:232) **189** SRH won by 42 [...] [![Image 67: AskESPNcricinfo Logo](https://wassets.hscicdn.com/static/images/lazyimage-noaspect.svg) Kohli and Hazlewood finish at No. 3 on IPL 2025 Orange and Purple Cap tables respectively ----------------------------------------------------------------------------------------- B Sai Sudharsan and Prasidh Krishna won the Orange and Purple Caps respectively at the end of IPL\\n\\n242/6 (20 overs)\\n[Ishan Kishan](https://en.wikipedia.org/wiki/Ishan_Kishan \"Ishan Kishan\") 106[*](https://en.wikipedia.org/wiki/Not_out \"Not out\") (47) \\n\\n[Tushar Deshpande](https://en.wikipedia.org/wiki/Tushar_Deshpande \"Tushar Deshpande\") 3/44 (4 overs)[Dhruv Jurel](https://en.wikipedia.org/wiki/Dhruv_Jurel \"Dhruv Jurel\") 70 (35) \\n\\n[Harshal Patel](https://en.wikipedia.org/wiki/Harshal_Patel \"Harshal Patel\") 2/34 (4 overs)\\n\\n**Sunrisers Hyderabad won by 44 runs** [...] *   Delhi Capitals won the toss and elected to field. [...] *   Royal Challengers Bengaluru won the toss and elected to field.'"
      ]
     },
     "execution_count": 54,
     "metadata": {},
     "output_type": "execute_result"
    }
   ],
   "source": [
    "state={\"messages\":[\"who won the IPL Tournament in 2025?\"]}\n",
    "app.invoke(state)\n",
    "result=app.invoke(state)\n",
    "result[\"messages\"][-1]"
   ]
  },
  {
   "cell_type": "code",
   "execution_count": 77,
   "id": "78a9da75",
   "metadata": {},
   "outputs": [
    {
     "name": "stdout",
     "output_type": "stream",
     "text": [
      "Question write a song\n",
      "Parsed response: Topic='Not Related' Reasoning=\"The query 'write a song' is a creative writing prompt and does not relate to cricket or fact-checking.\"\n",
      "-> ROUTER ->\n",
      "last_message: Not Related\n",
      "-> LLM Call ->\n",
      "Question write a song\n",
      "Parsed response: Topic='Not Related' Reasoning=\"The query 'write a song' is a creative writing prompt and does not relate to cricket or fact-checking.\"\n",
      "-> ROUTER ->\n",
      "last_message: Not Related\n",
      "-> LLM Call ->\n"
     ]
    },
    {
     "data": {
      "text/plain": [
       "['write a song',\n",
       " 'Not Related',\n",
       " \"(Verse 1)\\nSunrise paints the city gold, another day begins to unfold\\nThe rhythm of the streets takes hold, a story waiting to be told\\nA million hurried footsteps fall, a symphony of rise and fall\\nEach face a story, standing tall, answering life's insistent call\\n\\n(Chorus)\\nThis is the song of everyday, the hustle and the heart's ballet\\nOf laughter shared and tears that stray, in the fleeting light of day\\nA tapestry of joy and pain, a sunlit shower, then the rain\\nRepeating patterns, again, again, the rhythm of life's refrain\\n\\n(Verse 2)\\nA lover's whisper, soft and low, a promise whispered, soft aglow\\nA parent's hand, a gentle flow, guiding a child where they should go\\nA worker's sweat, a weary sigh, beneath a vast and endless sky\\nA silent prayer, a hopeful cry, as moments pass us swiftly by\\n\\n(Chorus)\\nThis is the song of everyday, the hustle and the heart's ballet\\nOf laughter shared and tears that stray, in the fleeting light of day\\nA tapestry of joy and pain, a sunlit shower, then the rain\\nRepeating patterns, again, again, the rhythm of life's refrain\\n\\n(Bridge)\\nThe city sleeps, the stars ignite, a quiet beauty in the night\\nReflecting back the fading light, of all the struggles and the fight\\nAnd in the stillness, we can see, the strength and grace that sets us free\\nA quiet hope for you and me, beneath the watchful, silent tree\\n\\n(Chorus)\\nThis is the song of everyday, the hustle and the heart's ballet\\nOf laughter shared and tears that stray, in the fleeting light of day\\nA tapestry of joy and pain, a sunlit shower, then the rain\\nRepeating patterns, again, again, the rhythm of life's refrain\\n\\n(Outro)\\nSo let the song forever play, through darkness and the break of day\\nThe song of life, along the way, until we meet another day.\"]"
      ]
     },
     "execution_count": 77,
     "metadata": {},
     "output_type": "execute_result"
    }
   ],
   "source": [
    "state={\"messages\":[\"write a song\"]}\n",
    "app.invoke(state)\n",
    "result=app.invoke(state)\n",
    "result[\"messages\"]"
   ]
  },
  {
   "cell_type": "code",
   "execution_count": null,
   "id": "52de2b26",
   "metadata": {},
   "outputs": [],
   "source": []
  }
 ],
 "metadata": {
  "kernelspec": {
   "display_name": "venv",
   "language": "python",
   "name": "python3"
  },
  "language_info": {
   "codemirror_mode": {
    "name": "ipython",
    "version": 3
   },
   "file_extension": ".py",
   "mimetype": "text/x-python",
   "name": "python",
   "nbconvert_exporter": "python",
   "pygments_lexer": "ipython3",
   "version": "3.13.2"
  }
 },
 "nbformat": 4,
 "nbformat_minor": 5
}
